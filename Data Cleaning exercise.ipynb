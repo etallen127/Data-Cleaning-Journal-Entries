{
 "cells": [
  {
   "cell_type": "code",
   "execution_count": 1,
   "metadata": {
    "collapsed": true
   },
   "outputs": [],
   "source": [
    "import numpy as np\n",
    "import pandas as pd\n",
    "import matplotlib.pyplot as plt\n",
    "import seaborn as sns\n",
    "%matplotlib inline"
   ]
  },
  {
   "cell_type": "code",
   "execution_count": 2,
   "metadata": {
    "collapsed": true
   },
   "outputs": [],
   "source": [
    "df = pd.read_csv('WELLCOME_APCspend2013_forThinkful.csv',encoding = \"ISO-8859-1\")"
   ]
  },
  {
   "cell_type": "code",
   "execution_count": 3,
   "metadata": {},
   "outputs": [
    {
     "data": {
      "text/html": [
       "<div>\n",
       "<style>\n",
       "    .dataframe thead tr:only-child th {\n",
       "        text-align: right;\n",
       "    }\n",
       "\n",
       "    .dataframe thead th {\n",
       "        text-align: left;\n",
       "    }\n",
       "\n",
       "    .dataframe tbody tr th {\n",
       "        vertical-align: top;\n",
       "    }\n",
       "</style>\n",
       "<table border=\"1\" class=\"dataframe\">\n",
       "  <thead>\n",
       "    <tr style=\"text-align: right;\">\n",
       "      <th></th>\n",
       "      <th>PMID/PMCID</th>\n",
       "      <th>Publisher</th>\n",
       "      <th>Journal title</th>\n",
       "      <th>Article title</th>\n",
       "      <th>COST (£) charged to Wellcome (inc VAT when charged)</th>\n",
       "    </tr>\n",
       "  </thead>\n",
       "  <tbody>\n",
       "    <tr>\n",
       "      <th>0</th>\n",
       "      <td>NaN</td>\n",
       "      <td>CUP</td>\n",
       "      <td>Psychological Medicine</td>\n",
       "      <td>Reduced parahippocampal cortical thickness in ...</td>\n",
       "      <td>£0.00</td>\n",
       "    </tr>\n",
       "    <tr>\n",
       "      <th>1</th>\n",
       "      <td>PMC3679557</td>\n",
       "      <td>ACS</td>\n",
       "      <td>Biomacromolecules</td>\n",
       "      <td>Structural characterization of a Model Gram-ne...</td>\n",
       "      <td>£2381.04</td>\n",
       "    </tr>\n",
       "    <tr>\n",
       "      <th>2</th>\n",
       "      <td>23043264  PMC3506128</td>\n",
       "      <td>ACS</td>\n",
       "      <td>J Med Chem</td>\n",
       "      <td>Fumaroylamino-4,5-epoxymorphinans and related ...</td>\n",
       "      <td>£642.56</td>\n",
       "    </tr>\n",
       "    <tr>\n",
       "      <th>3</th>\n",
       "      <td>23438330 PMC3646402</td>\n",
       "      <td>ACS</td>\n",
       "      <td>J Med Chem</td>\n",
       "      <td>Orvinols with mixed kappa/mu opioid receptor a...</td>\n",
       "      <td>£669.64</td>\n",
       "    </tr>\n",
       "    <tr>\n",
       "      <th>4</th>\n",
       "      <td>23438216 PMC3601604</td>\n",
       "      <td>ACS</td>\n",
       "      <td>J Org Chem</td>\n",
       "      <td>Regioselective opening of myo-inositol orthoes...</td>\n",
       "      <td>£685.88</td>\n",
       "    </tr>\n",
       "  </tbody>\n",
       "</table>\n",
       "</div>"
      ],
      "text/plain": [
       "              PMID/PMCID Publisher           Journal title  \\\n",
       "0                    NaN       CUP  Psychological Medicine   \n",
       "1             PMC3679557       ACS       Biomacromolecules   \n",
       "2  23043264  PMC3506128        ACS              J Med Chem   \n",
       "3    23438330 PMC3646402       ACS              J Med Chem   \n",
       "4   23438216 PMC3601604        ACS              J Org Chem   \n",
       "\n",
       "                                       Article title  \\\n",
       "0  Reduced parahippocampal cortical thickness in ...   \n",
       "1  Structural characterization of a Model Gram-ne...   \n",
       "2  Fumaroylamino-4,5-epoxymorphinans and related ...   \n",
       "3  Orvinols with mixed kappa/mu opioid receptor a...   \n",
       "4  Regioselective opening of myo-inositol orthoes...   \n",
       "\n",
       "  COST (£) charged to Wellcome (inc VAT when charged)  \n",
       "0                                              £0.00   \n",
       "1                                           £2381.04   \n",
       "2                                            £642.56   \n",
       "3                                            £669.64   \n",
       "4                                            £685.88   "
      ]
     },
     "execution_count": 3,
     "metadata": {},
     "output_type": "execute_result"
    }
   ],
   "source": [
    "df.head()"
   ]
  },
  {
   "cell_type": "code",
   "execution_count": 4,
   "metadata": {
    "collapsed": true
   },
   "outputs": [],
   "source": [
    "df['cost'] = df['COST (£) charged to Wellcome (inc VAT when charged)']"
   ]
  },
  {
   "cell_type": "code",
   "execution_count": 5,
   "metadata": {
    "collapsed": true
   },
   "outputs": [],
   "source": [
    "df = df.drop(['COST (£) charged to Wellcome (inc VAT when charged)'], axis=1)"
   ]
  },
  {
   "cell_type": "code",
   "execution_count": 6,
   "metadata": {},
   "outputs": [
    {
     "data": {
      "text/plain": [
       "Index(['PMID/PMCID', 'Publisher', 'Journal title', 'Article title', 'cost'], dtype='object')"
      ]
     },
     "execution_count": 6,
     "metadata": {},
     "output_type": "execute_result"
    }
   ],
   "source": [
    "df.columns"
   ]
  },
  {
   "cell_type": "markdown",
   "metadata": {},
   "source": [
    " Using this dataset of article open-access prices paid by the WELLCOME Trust between 2012 and 2013,determine the five most common journals and the total articles for each. Next, calculate the mean, median, and standard deviation of the open-access cost per article for each journal . You will need to do considerable data cleaning in order to extract accurate estimates. For a real bonus round, identify the open access prices paid by subject area."
   ]
  },
  {
   "cell_type": "code",
   "execution_count": 7,
   "metadata": {},
   "outputs": [
    {
     "name": "stdout",
     "output_type": "stream",
     "text": [
      "<class 'pandas.core.frame.DataFrame'>\n",
      "RangeIndex: 2127 entries, 0 to 2126\n",
      "Data columns (total 5 columns):\n",
      "PMID/PMCID       1928 non-null object\n",
      "Publisher        2127 non-null object\n",
      "Journal title    2126 non-null object\n",
      "Article title    2127 non-null object\n",
      "cost             2127 non-null object\n",
      "dtypes: object(5)\n",
      "memory usage: 83.2+ KB\n"
     ]
    }
   ],
   "source": [
    "df.info()"
   ]
  },
  {
   "cell_type": "code",
   "execution_count": 8,
   "metadata": {},
   "outputs": [
    {
     "data": {
      "text/plain": [
       "<matplotlib.axes._subplots.AxesSubplot at 0x23680030470>"
      ]
     },
     "execution_count": 8,
     "metadata": {},
     "output_type": "execute_result"
    },
    {
     "data": {
      "image/png": "[encoded data removed]",
      "text/plain": [
       "<matplotlib.figure.Figure at 0x236ffec3f60>"
      ]
     },
     "metadata": {},
     "output_type": "display_data"
    }
   ],
   "source": [
    "sns.heatmap(df.isnull(),yticklabels=False,cbar=False,cmap='viridis')"
   ]
  },
  {
   "cell_type": "code",
   "execution_count": 9,
   "metadata": {},
   "outputs": [
    {
     "data": {
      "text/plain": [
       "PLoS One                                           92\n",
       "PLoS ONE                                           62\n",
       "Journal of Biological Chemistry                    48\n",
       "Nucleic Acids Research                             21\n",
       "Proceedings of the National Academy of Sciences    19\n",
       "Name: Journal title, dtype: int64"
      ]
     },
     "execution_count": 9,
     "metadata": {},
     "output_type": "execute_result"
    }
   ],
   "source": [
    "df['Journal title'].value_counts().head(5)\n",
    "# first look at JT we can see that there are a lot of different inputs for the same thing"
   ]
  },
  {
   "cell_type": "code",
   "execution_count": 11,
   "metadata": {},
   "outputs": [
    {
     "data": {
      "text/plain": [
       "plos one                           190\n",
       "journal of biological chemistry     53\n",
       "neuroimage                          29\n",
       "plos pathogens                      24\n",
       "plos genetics                       24\n",
       "Name: Journal title, dtype: int64"
      ]
     },
     "execution_count": 11,
     "metadata": {},
     "output_type": "execute_result"
    }
   ],
   "source": [
    "df['Journal title'].str.lower().value_counts().head(5)\n",
    "# converting all title into lower case"
   ]
  },
  {
   "cell_type": "code",
   "execution_count": 12,
   "metadata": {
    "collapsed": true
   },
   "outputs": [],
   "source": [
    "df['Journal title'] = df['Journal title'].str.lower()\n",
    "# saving the change to JT"
   ]
  },
  {
   "cell_type": "code",
   "execution_count": 13,
   "metadata": {
    "collapsed": true
   },
   "outputs": [],
   "source": [
    "df['Journal title'] = df['Journal title'].str.strip()\n",
    "# now lets remove the extra white spaces"
   ]
  },
  {
   "cell_type": "code",
   "execution_count": 19,
   "metadata": {},
   "outputs": [
    {
     "data": {
      "text/plain": [
       "array(['psychological medicine', 'biomacromolecules', 'j med chem',\n",
       "       'j org chem', 'journal of medicinal chemistry',\n",
       "       'journal of proteome research', 'mol pharm', 'acs chemical biology',\n",
       "       'journal of chemical information and modeling', 'biochemistry',\n",
       "       'gastroenterology', 'journal of biological chemistry',\n",
       "       'journal of immunology', 'acs chemical neuroscience', 'acs nano',\n",
       "       'american chemical society', 'analytical chemistry',\n",
       "       'bioconjugate chemistry',\n",
       "       'journal of the american chemical society', 'chest',\n",
       "       'journal of neurophysiology', 'journal of physiology',\n",
       "       'the journal of neurophysiology', 'american journal of psychiatry',\n",
       "       'americal journal of psychiatry', 'behavioral neuroscience',\n",
       "       'emotion', 'health psychology', 'journal of abnormal psychology',\n",
       "       'journal of consulting and clinical psychology',\n",
       "       'journal of experimental psychology:  animal behaviour process',\n",
       "       'journal of experimental psychology: human perception and performance',\n",
       "       'journal of family psychology', 'psychological assessment',\n",
       "       'psychological review',\n",
       "       'psychological trauma: theory research, practice and policy',\n",
       "       'american journal of public health', 'j biol chem.',\n",
       "       'the journal of biological chemistry',\n",
       "       'american journal of pathology',\n",
       "       'antimicrobial agents and chemotherapy',\n",
       "       'antimicrobial agfents and chemotherapy',\n",
       "       'clinical and vaccine immunology', 'eukaryotic cell',\n",
       "       'infection and immunity', 'journal of bacteriology',\n",
       "       'journal of virology', 'mbio', 'molecular and cellular biology',\n",
       "       'journal of clinical microbiology',\n",
       "       'american society for nutrition', 'blood', 'blood journal 2012',\n",
       "       'the american journal of human genetics',\n",
       "       'jounral of clinical microbiology',\n",
       "       'speech language and hearing research', 'biological chemistry',\n",
       "       'biologicial chemistry', 'j biol chemistry',\n",
       "       'mcp (molecular & cellular proteomics)',\n",
       "       'molecular and cellular proteomics', 'jnl biological chemistry',\n",
       "       'journal biological chemistry', 'journal of biol chem',\n",
       "       'journal of vision', 'current topics in medicinal chemistry',\n",
       "       'current analytical chemistry',\n",
       "       'evidence, ethos and experiment: the anthropology and history of medical research in africa.',\n",
       "       'biochem journal', 'molecular cell', 'arthritis research & therapy',\n",
       "       'biomed central', 'bmc  public health', 'bmc biology',\n",
       "       'bmc genetics', 'bmc genome biology', 'bmc genomics',\n",
       "       'bmc health services research', 'bmc medical genetics',\n",
       "       'bmc medicine', 'bmc microbiology', 'bmc molecular biology',\n",
       "       'bmc neurology', 'bmc neuroscience', 'bmc psychiatry',\n",
       "       'bmc public health', 'bmc research notes',\n",
       "       'bmc veterinary research', 'bms genomics', 'clinical proteomics',\n",
       "       'evodevo', 'genome biology', 'genome medicine',\n",
       "       'international journal for equity in health',\n",
       "       'international journal of behavioral nutrition and physical activity',\n",
       "       'international journal of behavioural nutrition and physical activity',\n",
       "       'international journal of health geographics',\n",
       "       'journal of cheminformatics', 'journal of neuroinflammation',\n",
       "       'lipids in health and disease', 'malaria journal',\n",
       "       'molecular brain', 'molecular pain', 'nutrition journal',\n",
       "       'orphanet journal of rare diseases', 'parasites and vectors',\n",
       "       'public health', 'respiratory research', 'virology journal',\n",
       "       'bmc genomics.', 'bmc infectious diseases', 'hum resour health',\n",
       "       'implement sci.', 'parasit vectors.', 'aids research and therapy',\n",
       "       'bmc pediatrics', 'human resources for health', 'trials',\n",
       "       'veterinary research', 'biophysical journal',\n",
       "       'european journal of endocrinology', 'journal of endocrinology',\n",
       "       'journal of molecular endocrinology',\n",
       "       'reproduction(cambridge, england)', 'cellular microbiology',\n",
       "       'arthritis research and therapy', 'bmc medical ethics',\n",
       "       'bmc medical imaging', 'cost effectiveness and resource allocation',\n",
       "       'bjophthalmol', 'bmj', 'bmj open',\n",
       "       'british journal of ophthalmology',\n",
       "       'british journal of opthalmology', 'british medical journal',\n",
       "       'frontline gastroenterology', 'journal of clinical pathology',\n",
       "       'journal of epidemiology & community health',\n",
       "       'journal of medical ethics', 'journal of medical genetics',\n",
       "       'journal of neurology, neurosurgery & psychiatry',\n",
       "       'journal of neurology, neurosurgery and psychiatry',\n",
       "       'sexually transmitted infections', 'gut',\n",
       "       'archives of disease in childhood', 'bmj quality and safety',\n",
       "       'heart', 'medical humanities', 'thorax', 'sex transm infect.',\n",
       "       'journal of epidemiology and community health',\n",
       "       'postgraduate medical journal', 'veterinary record',\n",
       "       'thorax an international journal for respiratory medicine',\n",
       "       'european journal of health law', 'journal of neuroscience',\n",
       "       'heart and circulatory physiology',\n",
       "       'antimicobial agents and chemotherapy', 'j clin microbiol',\n",
       "       'international psychogeriatrics', 'parasitology', 'medical history',\n",
       "       'ageing & society', 'british journal for the history of science',\n",
       "       'british journal of the history of science',\n",
       "       'epidemiology and infection',\n",
       "       'expert reviews in molecular medicine',\n",
       "       'international journal of law in context',\n",
       "       'jnl of the international neuropsychological society',\n",
       "       'public health nutrition', 'pyschological medicine',\n",
       "       'urban history', 'visual neuroscience',\n",
       "       'american journal of human genetics', 'stem cell reports',\n",
       "       'journal of clinical endocrinology and metabolism',\n",
       "       'journal of virol', 'journal of the international aids society',\n",
       "       'genes & development', 'learning and memory', 'genome research',\n",
       "       'rna', 'journal of cell science', 'biology open', 'development',\n",
       "       'developmental cell', 'disease models and mechanisms',\n",
       "       'j cell sci.', 'international reviews of immunology',\n",
       "       'journal of the international african institute', 'cell reports',\n",
       "       'american journal for clinical nutrition',\n",
       "       'american journal of clinical nutrition',\n",
       "       'cell press - cell reports', 'g3: genes, genomes, genetics',\n",
       "       'genetics', 'j immunol',\n",
       "       'proceedings of the national academy of sciences',\n",
       "       'the journal of immunology', 'journal of nutrition', 'pnas',\n",
       "       'neuroimage', 'academy of nutrition and dietetics',\n",
       "       'american journal of geriatric psychiatry',\n",
       "       'american journal of preventive medicine',\n",
       "       'analytical biochemistry', 'animal behaviour', 'applied energy',\n",
       "       'asian journal of psychiatry', 'atherosclerosis',\n",
       "       'bba - molecular basis of disease', 'behavior research and therapy',\n",
       "       'behaviour research and therapy', 'behavioural brain research',\n",
       "       'biochemical and biophysical research communications',\n",
       "       'biochemical pharmacology',\n",
       "       'biochimica et bioohysica acta - gene regulatory mechanisms',\n",
       "       'biochimica et bioohysica acta - molecular basis of disease',\n",
       "       'biochimica et biophysica acta - molecular basis of disease',\n",
       "       'biochimica et biophysica acta (bba) - molecular cell research',\n",
       "       'biochimie', 'biological psychiatry', 'biological psychology',\n",
       "       'biomaterials', 'biosystems', 'bone', 'brain and cognition',\n",
       "       'brain and language', 'brain research', 'cancer letters', 'cell',\n",
       "       'cell calcium', 'cell host and microbe', 'cell journal',\n",
       "       'cell metabolism', 'cell stem cell', 'cellular signalling',\n",
       "       'chemsitry & biology', 'clinical neurology and neurosurgery',\n",
       "       'clinical radiology', 'cognition', 'cognitive development',\n",
       "       'consciousness & cognition', 'consciousness and cognition',\n",
       "       'cortex', 'current biology', 'current opinion in neurobiology',\n",
       "       'current opinion microbiology', 'current opinions in neurobiology',\n",
       "       'development cell', 'developmental biology',\n",
       "       'developmental cognitive neuroscience',\n",
       "       'diagnostic microbiology and infectious disease', 'elsevier',\n",
       "       'endeavour', 'epilepsy research',\n",
       "       'european journal of cell biology',\n",
       "       'european journal of medical genetics',\n",
       "       'european neuropsychopharmacology', 'experimental cell research',\n",
       "       'experimental eye research', 'experimental hematology',\n",
       "       'experimental neurology', 'experimental parasitology',\n",
       "       'febs letters', 'febs open bio', 'fertility and sterility',\n",
       "       'free radical and biology medicine', 'fungal biology',\n",
       "       'fungal ecology', 'gene', 'gene therapy', 'health & place',\n",
       "       'health and place', 'immnunobiology', 'immunity',\n",
       "       'immunology letters', 'infection genetics and evolution',\n",
       "       'int journal for parasitology', 'international health',\n",
       "       'international journal for parasitology',\n",
       "       'international journal of applied earth observation and geoinformation',\n",
       "       'international journal of biochemistry & cell biology',\n",
       "       'international journal of cardiology',\n",
       "       'international journal of parasitology', 'j mol biol',\n",
       "       'j steroid biochem mol biol', 'journal of affective disorders',\n",
       "       'journal of allergy & clinical immunology',\n",
       "       'journal of allergy and clinical immunology',\n",
       "       'journal of anthropological archaeology',\n",
       "       'journal of archaeological science',\n",
       "       'journal of behavior therapy and experimental psychiatry',\n",
       "       'journal of behaviour therapy and experimental psychiatry',\n",
       "       'journal of clinical epidemiology', 'journal of clinical virology',\n",
       "       'journal of cycstic fibrosis', 'journal of hepatology',\n",
       "       'journal of historical geography', 'journal of hospital infections',\n",
       "       'journal of infection',\n",
       "       'journal of mechanisms of ageing and development',\n",
       "       'journal of molecular biology', 'journal of neuroscience methods',\n",
       "       'journal of nutrition education and behaviour',\n",
       "       'journal of paediatric urology', 'journal of proteomics',\n",
       "       'journal of structural biology',\n",
       "       'journal of the american academy of child and adolescent psychiatry',\n",
       "       'journal of the american college of cardiology',\n",
       "       'journal of the neurological sciences',\n",
       "       'journal of transport geography', 'journal of virological methods',\n",
       "       'lancet', 'lancet global health',\n",
       "       'learning and individual differences', 'matrix biology',\n",
       "       'maturitas', 'mechanisms of ageing and development',\n",
       "       'microbes and infection', 'microbes infect', 'mol bio',\n",
       "       'molecluar & cellular endocrinology',\n",
       "       'molecular & biochemical parasitology',\n",
       "       'molecular and cellular endocrinology', 'molecular biology',\n",
       "       'molecular genetics and metabolism', 'molecular immunology',\n",
       "       'molecular phylogenetics and evolution', 'n biotechnol.',\n",
       "       'neurobiology of aging', 'neurobiology of disease',\n",
       "       'neurobiology of learning and memory',\n",
       "       'neurochemistry international', 'neuroimage: clinical',\n",
       "       'neurolmage', 'neuromuscular disorders', 'neuron',\n",
       "       'neuropharmacology', 'neurophysiologia', 'neuropsychologia',\n",
       "       'neuroscience', 'neuroscience and behavioural reviews',\n",
       "       'neuroscience letters', 'nitric oxide', 'ophthalmology',\n",
       "       'osteoarthritis and cartilage', 'pain',\n",
       "       'parkinsonism and related disorders', 'parsitology',\n",
       "       'personality and individual differences', 'preventive medicine',\n",
       "       'protein expr purif.', 'protist',\n",
       "       'pulmonary pharmacology & therapeutics',\n",
       "       'research in veterinary science', 'schizophrenia research',\n",
       "       'seizure', 'seminars in oncology', 'social science & medicine',\n",
       "       'social science and medicine', 'stem cell research', 'structure',\n",
       "       'studies in history and philosophy of science part c',\n",
       "       'studies in history and philosophy of science part c: studies in history and philosophy of biological and biomedical sciences',\n",
       "       'tetrahedron letters', 'the americal journal of human genetics',\n",
       "       'the international journal of biochemistry & cell biology',\n",
       "       'the journal of steroid biochemistry & molecular biology',\n",
       "       'the lancet', 'the lancet neurology', 'the vet. journal',\n",
       "       'ticks and tick-borne diseases',\n",
       "       'transactions of the royal society of tropical medicine and hygiene',\n",
       "       'trends in cognitive science', 'trends in genetics',\n",
       "       'trends in microbiology', 'trends in molecular medicine',\n",
       "       'trends in neuroscience', 'trends in neurosciences',\n",
       "       'trends in parasitology', 'tuberculosis', 'vaccine',\n",
       "       'vascular pharmacology', 'veterinary microbiology',\n",
       "       'veterinary parasitology', 'virology', 'virus research',\n",
       "       'vision research', 'lancet infect dis', 'math biosci', 'curr biol.',\n",
       "       'cell host & microbe', 'endocrinology', 'molecular endocrinology',\n",
       "       'european respiratory journal', 'faseb journal',\n",
       "       'journal of leukocyte biology', 'the faseb journal',\n",
       "       'haematologica', 'haematologica/the haematology journal',\n",
       "       'frontiers in auditory cognitive neuroscience',\n",
       "       'frontiers in behavioral neuroscience',\n",
       "       'frontiers in brain imaging methods',\n",
       "       'frontiers in cellular neuroscience', 'frontiers in cognition',\n",
       "       'frontiers in cognitive science',\n",
       "       'frontiers in decision neuroscience',\n",
       "       'frontiers in developmental psychology',\n",
       "       'frontiers in electrophysiology', 'frontiers in endocrinology',\n",
       "       'frontiers in genetics', 'frontiers in human neuroscience',\n",
       "       'frontiers in immunological memory', 'frontiers in inflammation',\n",
       "       'frontiers in invertebrate physiology',\n",
       "       'frontiers in molecular neuroscience', 'frontiers in schizophrenia',\n",
       "       'frontiers in systems neuroscience',\n",
       "       'frontiers in integrative neuroscience',\n",
       "       'frontiers in perception science',\n",
       "       'frontiers in consciousness research', 'frontiers in immunology',\n",
       "       'frontiers in neural circuits', 'frontiers in neurorobotics',\n",
       "       'frontiers in t cell biology', 'future neurology',\n",
       "       'future virology', 'future microbiology',\n",
       "       'future medicinal chemistry',\n",
       "       'international journal of rheumatology', 'journal of allergy',\n",
       "       'journal of parasitology research',\n",
       "       'oxidative medicine & cellular longevity',\n",
       "       'methods in molecular biology', 'oncotarget',\n",
       "       'molecular membrane biology',\n",
       "       'expert reviews in anti-infective chemotherapy', 'nanotechnology',\n",
       "       'ijtld', 'international journal of tuberculosis  and lung disease',\n",
       "       'acta crystallographica section d: biological crystallography',\n",
       "       'acta crystallographica, section d', 'acta crystallography d',\n",
       "       'acta d', 'acta f', 'j synchrotron radiat.',\n",
       "       'journal of applied crystallography',\n",
       "       'acta crystallographica section d,  biological crystallography',\n",
       "       'acta crystallographica section f: structural biology and crystallization communications',\n",
       "       'physics in biology and medicine', 'journal of alzheimer disease',\n",
       "       'theranostics', 'j med internet research',\n",
       "       'american journal of medical genetics', 'genetic epidemiology',\n",
       "       'the journal of pathology', 'european journal of immunology',\n",
       "       'journal of depression & anxiety', 'journal of pathology',\n",
       "       'clinical and experimental allergy', 'embo molecular medicine',\n",
       "       'biopolymers', 'development science', 'journal of medical virology',\n",
       "       'molecular microbiology', 'population, space and place', 'traffic',\n",
       "       'tropical medicine and international health',\n",
       "       'the journal of physiology', 'heptology',\n",
       "       'bulletin of the history of medicine',\n",
       "       'national academy of sciences', 'journal of visualized experiments',\n",
       "       'journal of neurology & translational neuroscience',\n",
       "       'nephron physiology', 'neurodegenerative diseases',\n",
       "       'neuroepidemiology', 'neuropsychobiology', 'respiration',\n",
       "       'autophagy', 'cell adhesion and migration', 'cell cycle',\n",
       "       'channels', 'epigenetics', 'epigentics', 'rna biology', 'neurology',\n",
       "       nan, 'antioxidants & redox signaling',\n",
       "       'antioxidants and redox signaling', 'tissue engineering: part a',\n",
       "       'stem cells and development',\n",
       "       'international journal of molecular sciences', 'jerph', 'sensors',\n",
       "       'journal of cognitive neuroscience',\n",
       "       'the journal of cognitive neuroscience',\n",
       "       'journal of visualized experiements',\n",
       "       'journal of visulaized expermiments',\n",
       "       'pnas (proceedings of the national academy of sciences of the united states of america',\n",
       "       'proceddings of the national academy of sciences of usa',\n",
       "       'proceedings of the national academy of sciences of the united states of america',\n",
       "       'biosocieties', 'british journal of cancer', 'cell death & disease',\n",
       "       'cell death and differentiation', 'cell death and disease',\n",
       "       'frontiers', 'genetics in medicine',\n",
       "       'journal of cerebral blood flow and metabolism',\n",
       "       'journal of investigative dermatology', 'mucosal immunology',\n",
       "       'nature communications', 'scientific reports', 'embo reports',\n",
       "       'european journal of human genetics', 'leukemia',\n",
       "       'nature neuroscience', 'cell death differentiation', 'embo',\n",
       "       'embo journal', 'international journal of obesity',\n",
       "       'kidney international', 'nature scientific reports',\n",
       "       'neuropsychopharmacology', 'oncogene', 'sci rep',\n",
       "       'scientific reports-11-00861b', 'the embo journal',\n",
       "       'the journal of investigative dermatology',\n",
       "       'translational psychiatry', 'optics express',\n",
       "       'alcohol and alcoholism', 'american jnl epidemiology',\n",
       "       'american journal of epidemiology', 'brain',\n",
       "       'briefings in bioinformatics', 'british medical bulletin',\n",
       "       'cerebral cortex', 'clinical infectious diseases',\n",
       "       'clinical infectious diseases online',\n",
       "       'european heart journal online', 'health policy planning',\n",
       "       'human molecular genetics', 'int j epidemiol',\n",
       "       'international joural of epidemiology',\n",
       "       'international journal of epidemiology',\n",
       "       'journal of antimicrobial chemotherapy',\n",
       "       'journal of infectious diseases',\n",
       "       'journal of the national cancer institute',\n",
       "       'nucleic acids research', 'public health ethics', 'rheumatology',\n",
       "       'schizophrenia bulletin',\n",
       "       'social cognitive and affective neuroscience',\n",
       "       'cardiovascular research', 'clinicla infectious disease',\n",
       "       'glycobiology', 'inyernational journal of epidemiology',\n",
       "       'journal of gerontology series a: medical sciences',\n",
       "       'journal of public health', 'molecular biology and evolution',\n",
       "       'nicotine and tobaco research', 'social history of medicine',\n",
       "       'bioinformatics online', 'cerebral cortex print',\n",
       "       'human mol genetics online', 'age and ageing', 'biinformatics',\n",
       "       'bioinformatics', 'brain online',\n",
       "       'briefings in functional genomics', 'cerebral cortex online',\n",
       "       'database', 'european journal of public health',\n",
       "       'health promotion international', 'history workshop journal',\n",
       "       'human molecular genetics online', 'human reproduction',\n",
       "       'international immunology', 'medical law review',\n",
       "       'mol biol and evolution', 'nephrology dialysis and transplantation',\n",
       "       'nephrology dialysis transplantation', 'nucleic acid research',\n",
       "       'oxford journals', 'oxford university press',\n",
       "       'protein engineering, design and selection (',\n",
       "       'qjm: an international journal of medicine',\n",
       "       'the journal of infectious diseases', 'j infect dis',\n",
       "       'environment and planning a', 'plos computational biology',\n",
       "       'plos genetics', 'plos ntd', 'plos one', 'plos pathogens',\n",
       "       'pnas usa',\n",
       "       'proceedings of the national academy of sciences of the usa',\n",
       "       'proc natl acad sci u s a.',\n",
       "       'journal of poverty and social justice', 'asn neuro',\n",
       "       'biochemical journal', 'biochemical journals',\n",
       "       'biochemical society transactions', 'essays in biochemistry',\n",
       "       'the biochemical journal', 'biochem soc trans',\n",
       "       'bioscience reports',\n",
       "       'proceedings of the national academy of sciences (pnas)', 'biology',\n",
       "       'computational biology', 'neglected tropical disease', 'plos',\n",
       "       'plos  computational biology', 'plos  one', 'plos 1',\n",
       "       'plos biology', 'plos medicine', 'plos medicine journal',\n",
       "       'plos negected tropical diseases',\n",
       "       'plos neglected tropical diseases', 'plosone',\n",
       "       'pmedicine-d-12-03130', 'pntd', 'pone-d12-17947',\n",
       "       'public library of science', 'public library of science one',\n",
       "       'public service review', 'j cardiovasc magn reson',\n",
       "       'british journal of psychiatry', 'britsh journal of psychiatry',\n",
       "       'the british journal of psychiatry', 'biology letters', 'interface',\n",
       "       'journal of the royal society interface',\n",
       "       'journal of the royal society, interface',\n",
       "       'philos trans r soc london b biol sci',\n",
       "       'philosophical transactions b', 'proceedings b',\n",
       "       'proceedings of royal society', 'proceedings of the royal society',\n",
       "       'proceedings of the royal society b: biological sciences',\n",
       "       'chemical communication', 'chemical society reviews',\n",
       "       'dalton transactions', 'photochemical & photobiological sciences',\n",
       "       'organic & biomolecular chemistry', 'chronic illness',\n",
       "       'european journal of preventive cardiology',\n",
       "       'health: an interdisciplinary journal for the social study of health, illness and medicine',\n",
       "       'history of the human sciences',\n",
       "       'journal of histochemistry & cytochemistry', 'neuroscientist',\n",
       "       'psychological science', 'social studies of science',\n",
       "       'journal of psychopharmacology', 'reproductive sciences',\n",
       "       'journal of the royal society of medicine short reports',\n",
       "       'european history quarterly', 'qualitative research',\n",
       "       'international journal of financial research',\n",
       "       'journal of biomedical graphics and computing', 'health',\n",
       "       'american journal of tropical medicine & hygiene',\n",
       "       'endocrine related cancer', 'journal of general virology',\n",
       "       'journal of microbiology', 'microbiology', 'sgm open option',\n",
       "       'the journal of neuroscience', 'acta dermato venereologica',\n",
       "       'acta diabetologica', 'acta neuropathol', 'acta neuropathologica',\n",
       "       'advances in experimental medicine and biology',\n",
       "       'anal bioanal chem.', 'biogerontology', 'biomedical microdevices',\n",
       "       'brain structure and function', 'brain topography',\n",
       "       'calcified tissue international', 'cell and tissue research',\n",
       "       'cellular and molecular cell sciences',\n",
       "       'cellular and molecular life sciences', 'chromosome research',\n",
       "       'cognitive processing', 'cognitive therapy and research',\n",
       "       'current atherosclerosis reports',\n",
       "       'current obstetrics and gynecology reports',\n",
       "       'development genes and evolution', 'diabetologia',\n",
       "       'european child and adolescent psychiatry',\n",
       "       'european child and adolescent psychiatty',\n",
       "       'european journal of clinical pharmacology',\n",
       "       'european journal of epidemiology', 'european radiology',\n",
       "       'experimental brain research', 'hernia', 'immunogenetics',\n",
       "       'inflammation research',\n",
       "       'journal of autism and development disorders',\n",
       "       'journal of autism and developmental disorders',\n",
       "       'journal of bioethical inquiry', 'journal of biological physics',\n",
       "       'journal of computational neuroscience',\n",
       "       'journal of inherited metabolic',\n",
       "       'journal of molecular neuroscience', 'journal of neurology',\n",
       "       'journal of the association for research in otolaryngology',\n",
       "       'mammalian genome', 'metabolomics',\n",
       "       'molecular and cellular biochemistry', 'neurogenetics',\n",
       "       'neuroinformatics', 'neuromolecular medicine',\n",
       "       'osteoporosis international', 'pflugers archiv', 'pflugers archive',\n",
       "       'psychopharmacology', 'reproductive medicine and biology',\n",
       "       'seminars in immunopathology',\n",
       "       'social psychiatry & psychiatric epidemiology',\n",
       "       'social psychiatry and psychiatric epidemiol',\n",
       "       'social psychiatry and psychiatric epidemiology', 'springer',\n",
       "       'the journal of abnormal child psychology and psychiatry',\n",
       "       'tropical animal health & production', 'urolithiasis', 'aids behav',\n",
       "       'open choice', 'springer science + business media',\n",
       "       'journal of bioenergetics and biomembranes', 'childs nerv syst',\n",
       "       'age', 'biomolecular nmr assignments',\n",
       "       'journal of molecular medicine', 'journal of neural transmission',\n",
       "       'journal of the american society for mass spectrometry',\n",
       "       'azania: archaeological research in africa', 'aids care',\n",
       "       'annals of science', 'canadian journal of african studies',\n",
       "       'child neuropsychology', 'english studies',\n",
       "       'european journal of english studies',\n",
       "       'journal of cultural economy', 'medical anthropology',\n",
       "       'science as culture', 'am j bioeth', 'ethn health',\n",
       "       'american journal of bioethics--neuroscience',\n",
       "       'south asian history and culture', 'the history of the family',\n",
       "       'journal of experimental nanoscience', 'j med chem.',\n",
       "       'journal of applied physiology', 'molecular & cellular proteomics',\n",
       "       'pediatrics', 'biol open', 'journal of clinical endocrinology',\n",
       "       'journal od clinical endocrinology',\n",
       "       'the journal of visualized experiments', 'bjp',\n",
       "       'philosophical transactions of the royal society of london. series b, biological sciences',\n",
       "       'rstb 2012.0145', 'cancer research', 'science-research',\n",
       "       'am j trop med hyg', 'developing world bioethics',\n",
       "       'international journal of developmental biology', 'acta physiol',\n",
       "       'addiction', 'aging cell',\n",
       "       'alimentrary pharmacology & therapeutics', 'american ethnologist',\n",
       "       'american journal of medical genetics part a', 'angewande chemie',\n",
       "       'angewandte chemie', 'annals of human genetics',\n",
       "       'annals of neurology', 'annals of the new york academy of sciences',\n",
       "       'arthritis & rheumatism', 'arthritis and rheumatism', 'bioethics',\n",
       "       'birth defects research part a: clinical and molecular teratology',\n",
       "       'british journal of clinical pharmacology',\n",
       "       'british journal of dermatology', 'british journal of haematology',\n",
       "       'british journal of pharmacology', 'chembiochem',\n",
       "       'chemistry -  european journal', 'child psychology psychiatry',\n",
       "       'clinical genetics', 'cytoskeleton', 'development dynamics',\n",
       "       'developmental science', 'diabetic medicine',\n",
       "       'ecology and evolution', 'ecology letters', 'epilepsia',\n",
       "       'european journal of neuroscience', 'evolution',\n",
       "       'experimental physiology', 'febs j.', 'febs journal',\n",
       "       'fems microbiology letters', 'genes brain behaviour',\n",
       "       'genesis: journal of genetics', 'glia',\n",
       "       'hbm jnl human brain mapping', 'hepatology', 'hippocampus',\n",
       "       'human brain mapping', 'human mutation',\n",
       "       'human mutation: variation, informatics, and disease',\n",
       "       'immunological reviews', 'inflammatory bowel diseases',\n",
       "       'international journal of geriatric psychiatry',\n",
       "       'international journal of stroke',\n",
       "       'journal of bone and mineral research',\n",
       "       'journal of cellular biochemistry',\n",
       "       'journal of child psychology and psychiatry',\n",
       "       'journal of evolutionary biology', 'journal of neurochemistry',\n",
       "       'journal of neuroendocrinology',\n",
       "       'journal of the history of the behavioral sciences',\n",
       "       'journal of the royal statistical society: series c (applied statistics)',\n",
       "       'magnetic resonance in medicine', 'movement disorders',\n",
       "       'muscle and nerve', 'neuropathology and applied neurobiology',\n",
       "       'nmr in biomedicine', 'parasite immunology',\n",
       "       'plant biotechnology journal', 'protein science',\n",
       "       'rapid communications in mass spectrometry',\n",
       "       'sociology of health & illness', 'stem cells', 'the febs journal',\n",
       "       'brt jnl clinical pharmacology', 'child: care, health development',\n",
       "       'drug and alcohol review', 'evolutionary applications',\n",
       "       'molecular genetics & genomic medicine',\n",
       "       'maternal and child nutrition', 'evaluation in clinical practice',\n",
       "       'journal of cell physiology', 'journal of internal medicine',\n",
       "       'journal of sleep research', 'child: care, heath & development',\n",
       "       'dev world bioeth.', 'dev. world bioeth', 'eur j immunol',\n",
       "       'influenza other respi viruses.', 'marten child nutr',\n",
       "       'trop med int health', 'clinical transcriptional science',\n",
       "       'immunology', 'acta opthalmologica',\n",
       "       'american journal of transplantation',\n",
       "       'angewandte chemie international edition',\n",
       "       'british jounal of pharmacology', 'centaurus',\n",
       "       'criminal behavior and mental health', 'depression and anxiety',\n",
       "       'dermatologic surgery', 'economic history review',\n",
       "       'genetic epidemology', 'hpb',\n",
       "       'international journal of experimental pathology',\n",
       "       'journal of comparative neurology',\n",
       "       'journal of evaluation in clinical practice',\n",
       "       'journal of microscopy', 'journal of orthopedic research',\n",
       "       'journal of viral hepatitis', 'obesity reviews',\n",
       "       'statistics in medicine', 'synapse',\n",
       "       'the european journal of neuroscience',\n",
       "       'zoonoses and public health', 'angew chems int ed', 'chemmedchem',\n",
       "       'protemics', 'journal of small animal practice', 'aids',\n",
       "       'aids journal', 'aids uk',\n",
       "       'jaids journal of acquired immune deficiency syndromes',\n",
       "       'journal of acquired immune deficiency syndroms (jaids)',\n",
       "       'journal of aids', 'circulation research', 'pediatr infect dis j',\n",
       "       'journal of acquired immune deficiency syndromes'], dtype=object)"
      ]
     },
     "execution_count": 19,
     "metadata": {},
     "output_type": "execute_result"
    }
   ],
   "source": [
    "df['Journal title'].unique()"
   ]
  },
  {
   "cell_type": "code",
   "execution_count": 34,
   "metadata": {},
   "outputs": [],
   "source": [
    "def spellc(words):\n",
    "    if str(words) in ['plos', 'plos  one', 'plos 1', 'plosone']:\n",
    "        words.str.replace('plos one', words)\n",
    "    else:\n",
    "        pass\n",
    "        "
   ]
  },
  {
   "cell_type": "code",
   "execution_count": 35,
   "metadata": {},
   "outputs": [
    {
     "ename": "AttributeError",
     "evalue": "'str' object has no attribute 'str'",
     "output_type": "error",
     "traceback": [
      "\u001b[1;31m---------------------------------------------------------------------------\u001b[0m",
      "\u001b[1;31mAttributeError\u001b[0m                            Traceback (most recent call last)",
      "\u001b[1;32m<ipython-input-35-73151a09cbfb>\u001b[0m in \u001b[0;36m<module>\u001b[1;34m()\u001b[0m\n\u001b[1;32m----> 1\u001b[1;33m \u001b[0mdf\u001b[0m\u001b[1;33m[\u001b[0m\u001b[1;34m'Journal title'\u001b[0m\u001b[1;33m]\u001b[0m\u001b[1;33m.\u001b[0m\u001b[0mapply\u001b[0m\u001b[1;33m(\u001b[0m\u001b[1;32mlambda\u001b[0m \u001b[0mx\u001b[0m\u001b[1;33m:\u001b[0m \u001b[0mspellc\u001b[0m\u001b[1;33m(\u001b[0m\u001b[0mx\u001b[0m\u001b[1;33m)\u001b[0m\u001b[1;33m)\u001b[0m\u001b[1;33m\u001b[0m\u001b[0m\n\u001b[0m",
      "\u001b[1;32mC:\\Users\\etallen127\\AppData\\Local\\Continuum\\Anaconda3\\lib\\site-packages\\pandas\\core\\series.py\u001b[0m in \u001b[0;36mapply\u001b[1;34m(self, func, convert_dtype, args, **kwds)\u001b[0m\n\u001b[0;32m   2353\u001b[0m             \u001b[1;32melse\u001b[0m\u001b[1;33m:\u001b[0m\u001b[1;33m\u001b[0m\u001b[0m\n\u001b[0;32m   2354\u001b[0m                 \u001b[0mvalues\u001b[0m \u001b[1;33m=\u001b[0m \u001b[0mself\u001b[0m\u001b[1;33m.\u001b[0m\u001b[0masobject\u001b[0m\u001b[1;33m\u001b[0m\u001b[0m\n\u001b[1;32m-> 2355\u001b[1;33m                 \u001b[0mmapped\u001b[0m \u001b[1;33m=\u001b[0m \u001b[0mlib\u001b[0m\u001b[1;33m.\u001b[0m\u001b[0mmap_infer\u001b[0m\u001b[1;33m(\u001b[0m\u001b[0mvalues\u001b[0m\u001b[1;33m,\u001b[0m \u001b[0mf\u001b[0m\u001b[1;33m,\u001b[0m \u001b[0mconvert\u001b[0m\u001b[1;33m=\u001b[0m\u001b[0mconvert_dtype\u001b[0m\u001b[1;33m)\u001b[0m\u001b[1;33m\u001b[0m\u001b[0m\n\u001b[0m\u001b[0;32m   2356\u001b[0m \u001b[1;33m\u001b[0m\u001b[0m\n\u001b[0;32m   2357\u001b[0m         \u001b[1;32mif\u001b[0m \u001b[0mlen\u001b[0m\u001b[1;33m(\u001b[0m\u001b[0mmapped\u001b[0m\u001b[1;33m)\u001b[0m \u001b[1;32mand\u001b[0m \u001b[0misinstance\u001b[0m\u001b[1;33m(\u001b[0m\u001b[0mmapped\u001b[0m\u001b[1;33m[\u001b[0m\u001b[1;36m0\u001b[0m\u001b[1;33m]\u001b[0m\u001b[1;33m,\u001b[0m \u001b[0mSeries\u001b[0m\u001b[1;33m)\u001b[0m\u001b[1;33m:\u001b[0m\u001b[1;33m\u001b[0m\u001b[0m\n",
      "\u001b[1;32mpandas\\_libs\\src\\inference.pyx\u001b[0m in \u001b[0;36mpandas._libs.lib.map_infer (pandas\\_libs\\lib.c:66440)\u001b[1;34m()\u001b[0m\n",
      "\u001b[1;32m<ipython-input-35-73151a09cbfb>\u001b[0m in \u001b[0;36m<lambda>\u001b[1;34m(x)\u001b[0m\n\u001b[1;32m----> 1\u001b[1;33m \u001b[0mdf\u001b[0m\u001b[1;33m[\u001b[0m\u001b[1;34m'Journal title'\u001b[0m\u001b[1;33m]\u001b[0m\u001b[1;33m.\u001b[0m\u001b[0mapply\u001b[0m\u001b[1;33m(\u001b[0m\u001b[1;32mlambda\u001b[0m \u001b[0mx\u001b[0m\u001b[1;33m:\u001b[0m \u001b[0mspellc\u001b[0m\u001b[1;33m(\u001b[0m\u001b[0mx\u001b[0m\u001b[1;33m)\u001b[0m\u001b[1;33m)\u001b[0m\u001b[1;33m\u001b[0m\u001b[0m\n\u001b[0m",
      "\u001b[1;32m<ipython-input-34-f5b0198b15ae>\u001b[0m in \u001b[0;36mspellc\u001b[1;34m(words)\u001b[0m\n\u001b[0;32m      1\u001b[0m \u001b[1;32mdef\u001b[0m \u001b[0mspellc\u001b[0m\u001b[1;33m(\u001b[0m\u001b[0mwords\u001b[0m\u001b[1;33m)\u001b[0m\u001b[1;33m:\u001b[0m\u001b[1;33m\u001b[0m\u001b[0m\n\u001b[0;32m      2\u001b[0m     \u001b[1;32mif\u001b[0m \u001b[0mstr\u001b[0m\u001b[1;33m(\u001b[0m\u001b[0mwords\u001b[0m\u001b[1;33m)\u001b[0m \u001b[1;32min\u001b[0m \u001b[1;33m[\u001b[0m\u001b[1;34m'plos'\u001b[0m\u001b[1;33m,\u001b[0m \u001b[1;34m'plos  one'\u001b[0m\u001b[1;33m,\u001b[0m \u001b[1;34m'plos 1'\u001b[0m\u001b[1;33m,\u001b[0m \u001b[1;34m'plosone'\u001b[0m\u001b[1;33m]\u001b[0m\u001b[1;33m:\u001b[0m\u001b[1;33m\u001b[0m\u001b[0m\n\u001b[1;32m----> 3\u001b[1;33m         \u001b[0mwords\u001b[0m\u001b[1;33m.\u001b[0m\u001b[0mstr\u001b[0m\u001b[1;33m.\u001b[0m\u001b[0mreplace\u001b[0m\u001b[1;33m(\u001b[0m\u001b[1;34m'plos one'\u001b[0m\u001b[1;33m,\u001b[0m \u001b[0mwords\u001b[0m\u001b[1;33m)\u001b[0m\u001b[1;33m\u001b[0m\u001b[0m\n\u001b[0m\u001b[0;32m      4\u001b[0m     \u001b[1;32melse\u001b[0m\u001b[1;33m:\u001b[0m\u001b[1;33m\u001b[0m\u001b[0m\n\u001b[0;32m      5\u001b[0m         \u001b[1;32mpass\u001b[0m\u001b[1;33m\u001b[0m\u001b[0m\n",
      "\u001b[1;31mAttributeError\u001b[0m: 'str' object has no attribute 'str'"
     ]
    }
   ],
   "source": [
    "df['Journal title'].apply(lambda x: spellc(x))"
   ]
  },
  {
   "cell_type": "code",
   "execution_count": 40,
   "metadata": {},
   "outputs": [
    {
     "ename": "ValueError",
     "evalue": "The truth value of a Series is ambiguous. Use a.empty, a.bool(), a.item(), a.any() or a.all().",
     "output_type": "error",
     "traceback": [
      "\u001b[1;31m---------------------------------------------------------------------------\u001b[0m",
      "\u001b[1;31mValueError\u001b[0m                                Traceback (most recent call last)",
      "\u001b[1;32m<ipython-input-40-789f330b3c33>\u001b[0m in \u001b[0;36m<module>\u001b[1;34m()\u001b[0m\n\u001b[1;32m----> 1\u001b[1;33m \u001b[0mdf\u001b[0m\u001b[1;33m[\u001b[0m\u001b[0mdf\u001b[0m\u001b[1;33m[\u001b[0m\u001b[1;34m'Journal title'\u001b[0m\u001b[1;33m]\u001b[0m \u001b[1;32min\u001b[0m \u001b[1;33m[\u001b[0m\u001b[1;34m'plos'\u001b[0m\u001b[1;33m,\u001b[0m \u001b[1;34m'plos  one'\u001b[0m\u001b[1;33m,\u001b[0m \u001b[1;34m'plos 1'\u001b[0m\u001b[1;33m,\u001b[0m \u001b[1;34m'plosone'\u001b[0m\u001b[1;33m]\u001b[0m\u001b[1;33m]\u001b[0m\u001b[1;33m.\u001b[0m\u001b[0mapply\u001b[0m\u001b[1;33m(\u001b[0m\u001b[1;32mlambda\u001b[0m \u001b[0mx\u001b[0m\u001b[1;33m:\u001b[0m \u001b[0mx\u001b[0m\u001b[1;33m.\u001b[0m\u001b[0mstr\u001b[0m\u001b[1;33m.\u001b[0m\u001b[0mreplace\u001b[0m\u001b[1;33m(\u001b[0m\u001b[1;34m'plos one'\u001b[0m\u001b[1;33m,\u001b[0m \u001b[0mx\u001b[0m\u001b[1;33m)\u001b[0m\u001b[1;33m)\u001b[0m\u001b[1;33m\u001b[0m\u001b[0m\n\u001b[0m",
      "\u001b[1;32mC:\\Users\\etallen127\\AppData\\Local\\Continuum\\Anaconda3\\lib\\site-packages\\pandas\\core\\generic.py\u001b[0m in \u001b[0;36m__nonzero__\u001b[1;34m(self)\u001b[0m\n\u001b[0;32m    951\u001b[0m         raise ValueError(\"The truth value of a {0} is ambiguous. \"\n\u001b[0;32m    952\u001b[0m                          \u001b[1;34m\"Use a.empty, a.bool(), a.item(), a.any() or a.all().\"\u001b[0m\u001b[1;33m\u001b[0m\u001b[0m\n\u001b[1;32m--> 953\u001b[1;33m                          .format(self.__class__.__name__))\n\u001b[0m\u001b[0;32m    954\u001b[0m \u001b[1;33m\u001b[0m\u001b[0m\n\u001b[0;32m    955\u001b[0m     \u001b[0m__bool__\u001b[0m \u001b[1;33m=\u001b[0m \u001b[0m__nonzero__\u001b[0m\u001b[1;33m\u001b[0m\u001b[0m\n",
      "\u001b[1;31mValueError\u001b[0m: The truth value of a Series is ambiguous. Use a.empty, a.bool(), a.item(), a.any() or a.all()."
     ]
    }
   ],
   "source": [
    "df[df['Journal title'] in ['plos', 'plos  one', 'plos 1', 'plosone']].apply(lambda x: x.str.replace('plos one', x))"
   ]
  },
  {
   "cell_type": "code",
   "execution_count": 13,
   "metadata": {},
   "outputs": [
    {
     "data": {
      "text/plain": [
       "plos one                           190\n",
       "journal of biological chemistry     53\n",
       "neuroimage                          29\n",
       "nucleic acids research              26\n",
       "plos genetics                       24\n",
       "Name: Journal title, dtype: int64"
      ]
     },
     "execution_count": 13,
     "metadata": {},
     "output_type": "execute_result"
    }
   ],
   "source": [
    "df['Journal title'].value_counts().head()\n",
    "# Finally we have our top 5 journals "
   ]
  },
  {
   "cell_type": "code",
   "execution_count": 14,
   "metadata": {
    "collapsed": true
   },
   "outputs": [],
   "source": [
    "# next lets look into their cost"
   ]
  },
  {
   "cell_type": "code",
   "execution_count": 15,
   "metadata": {},
   "outputs": [
    {
     "data": {
      "text/plain": [
       "1282      £1001.03\n",
       "1283      £1004.15\n",
       "1284      £1011.45\n",
       "1285      £1011.45\n",
       "1286      £1015.73\n",
       "1287      £1023.41\n",
       "1288      £1039.87\n",
       "1289      £1061.24\n",
       "1290      £1061.24\n",
       "1291      £1061.24\n",
       "1292      £1080.00\n",
       "1293       £794.93\n",
       "1294       £809.29\n",
       "1295       £819.34\n",
       "1296       £854.96\n",
       "1297       £901.50\n",
       "1298       £902.12\n",
       "1299       £903.89\n",
       "1303      £1061.93\n",
       "1304       £389.73\n",
       "1305       £443.38\n",
       "1414      £1002.86\n",
       "1415      £1005.86\n",
       "1416      £1005.96\n",
       "1417      £1008.97\n",
       "1418      £1009.98\n",
       "1419      £1010.80\n",
       "1420      £1013.03\n",
       "1421      £1019.76\n",
       "1422      £1027.73\n",
       "           ...    \n",
       "1553       £896.32\n",
       "1554       £896.96\n",
       "1555       £896.99\n",
       "1556       £897.19\n",
       "1557       £897.61\n",
       "1558       £897.61\n",
       "1559       £899.34\n",
       "1560    £999999.00\n",
       "1561    £999999.00\n",
       "1562    £999999.00\n",
       "1563    £999999.00\n",
       "1564    £999999.00\n",
       "1565    £999999.00\n",
       "1566    £999999.00\n",
       "1567       £900.14\n",
       "1568       £904.34\n",
       "1569       £907.08\n",
       "1570       £908.01\n",
       "1571       £909.99\n",
       "1572       £910.20\n",
       "1573       £913.36\n",
       "1574       £915.53\n",
       "1575       £918.62\n",
       "1576       £953.48\n",
       "1577       £960.16\n",
       "1578       £961.68\n",
       "1579       £961.68\n",
       "1580       £961.68\n",
       "1581       £986.72\n",
       "1582       £996.06\n",
       "Name: cost, Length: 190, dtype: object"
      ]
     },
     "execution_count": 15,
     "metadata": {},
     "output_type": "execute_result"
    }
   ],
   "source": [
    "df[df['Journal title'] == 'plos one']['cost']\n",
    "# we can see a lot of flawed data, like the 999,999 and we can also see repeats."
   ]
  },
  {
   "cell_type": "code",
   "execution_count": 16,
   "metadata": {
    "collapsed": true
   },
   "outputs": [],
   "source": [
    "md = df[df['Journal title'] == 'plos one']['cost'].mode()"
   ]
  },
  {
   "cell_type": "code",
   "execution_count": 17,
   "metadata": {
    "collapsed": true
   },
   "outputs": [],
   "source": [
    "f = df['cost'].str.split('£',expand=True)\n",
    "# here I am removing the $ to convert the column to a numerical column"
   ]
  },
  {
   "cell_type": "code",
   "execution_count": 18,
   "metadata": {
    "collapsed": true
   },
   "outputs": [],
   "source": [
    "df['cost'] = f[1]"
   ]
  },
  {
   "cell_type": "code",
   "execution_count": 19,
   "metadata": {
    "collapsed": true
   },
   "outputs": [],
   "source": [
    "df['cost'] = pd.to_numeric(df['cost'])\n",
    "# now we have numeric values for the cost category"
   ]
  },
  {
   "cell_type": "code",
   "execution_count": 20,
   "metadata": {},
   "outputs": [
    {
     "name": "stderr",
     "output_type": "stream",
     "text": [
      "C:\\Users\\etallen127\\AppData\\Local\\Continuum\\Anaconda3\\lib\\site-packages\\ipykernel_launcher.py:1: SettingWithCopyWarning: \n",
      "A value is trying to be set on a copy of a slice from a DataFrame.\n",
      "Try using .loc[row_indexer,col_indexer] = value instead\n",
      "\n",
      "See the caveats in the documentation: http://pandas.pydata.org/pandas-docs/stable/indexing.html#indexing-view-versus-copy\n",
      "  \"\"\"Entry point for launching an IPython kernel.\n"
     ]
    }
   ],
   "source": [
    "df.iloc[1560:1567]['cost'] = md\n",
    "# next im going to replace the flawed data with the mode"
   ]
  },
  {
   "cell_type": "code",
   "execution_count": 21,
   "metadata": {},
   "outputs": [
    {
     "data": {
      "text/plain": [
       "38751.29136842105"
      ]
     },
     "execution_count": 21,
     "metadata": {},
     "output_type": "execute_result"
    }
   ],
   "source": [
    "df[df['Journal title'] == 'plos one']['cost'].mean()\n",
    "# this median still seems too high"
   ]
  },
  {
   "cell_type": "code",
   "execution_count": 22,
   "metadata": {},
   "outputs": [
    {
     "data": {
      "text/plain": [
       "<matplotlib.axes._subplots.AxesSubplot at 0x1d696798ba8>"
      ]
     },
     "execution_count": 22,
     "metadata": {},
     "output_type": "execute_result"
    },
    {
     "data": {
      "image/png": "[encoded data removed]",
      "text/plain": [
       "<matplotlib.figure.Figure at 0x1d69672d6a0>"
      ]
     },
     "metadata": {},
     "output_type": "display_data"
    }
   ],
   "source": [
    "df[df['Journal title'] == 'plos one']['cost'].plot(x=len(df['Journal title']),kind='hist')\n"
   ]
  },
  {
   "cell_type": "code",
   "execution_count": 23,
   "metadata": {
    "collapsed": true
   },
   "outputs": [],
   "source": [
    "df[df['cost'] > 4000] = None\n",
    "# create null values for errors"
   ]
  },
  {
   "cell_type": "code",
   "execution_count": 24,
   "metadata": {
    "collapsed": true
   },
   "outputs": [],
   "source": [
    "# I think I could make a function to write all 5 of the top journals"
   ]
  },
  {
   "cell_type": "code",
   "execution_count": 25,
   "metadata": {},
   "outputs": [
    {
     "data": {
      "text/plain": [
       "934.6558241758228"
      ]
     },
     "execution_count": 25,
     "metadata": {},
     "output_type": "execute_result"
    }
   ],
   "source": [
    "df[df[\"Journal title\"] == 'plos one']['cost'].mean()"
   ]
  },
  {
   "cell_type": "code",
   "execution_count": 26,
   "metadata": {
    "collapsed": true
   },
   "outputs": [],
   "source": [
    "a = df[df[\"Journal title\"] == 'plos one']['cost']"
   ]
  },
  {
   "cell_type": "code",
   "execution_count": 27,
   "metadata": {},
   "outputs": [
    {
     "data": {
      "text/plain": [
       "934.6558241758228"
      ]
     },
     "execution_count": 27,
     "metadata": {},
     "output_type": "execute_result"
    }
   ],
   "source": [
    "a.mean()"
   ]
  },
  {
   "cell_type": "code",
   "execution_count": 28,
   "metadata": {},
   "outputs": [
    {
     "data": {
      "text/plain": [
       "0    825.68\n",
       "dtype: float64"
      ]
     },
     "execution_count": 28,
     "metadata": {},
     "output_type": "execute_result"
    }
   ],
   "source": [
    "a.mode()"
   ]
  },
  {
   "cell_type": "code",
   "execution_count": 29,
   "metadata": {},
   "outputs": [
    {
     "data": {
      "text/plain": [
       "896.975"
      ]
     },
     "execution_count": 29,
     "metadata": {},
     "output_type": "execute_result"
    }
   ],
   "source": [
    "a.median()"
   ]
  },
  {
   "cell_type": "code",
   "execution_count": 30,
   "metadata": {
    "collapsed": true
   },
   "outputs": [],
   "source": [
    "b = df[df['Journal title'] == 'journal of biological chemistry']['cost']"
   ]
  },
  {
   "cell_type": "code",
   "execution_count": 31,
   "metadata": {},
   "outputs": [
    {
     "data": {
      "text/plain": [
       "1423.5884615384614"
      ]
     },
     "execution_count": 31,
     "metadata": {},
     "output_type": "execute_result"
    }
   ],
   "source": [
    "b.mean()"
   ]
  },
  {
   "cell_type": "code",
   "execution_count": 32,
   "metadata": {},
   "outputs": [
    {
     "data": {
      "text/plain": [
       "0    1276.08\n",
       "1    1556.61\n",
       "dtype: float64"
      ]
     },
     "execution_count": 32,
     "metadata": {},
     "output_type": "execute_result"
    }
   ],
   "source": [
    "b.mode()"
   ]
  },
  {
   "cell_type": "code",
   "execution_count": 33,
   "metadata": {},
   "outputs": [
    {
     "data": {
      "text/plain": [
       "1301.1399999999999"
      ]
     },
     "execution_count": 33,
     "metadata": {},
     "output_type": "execute_result"
    }
   ],
   "source": [
    "b.median()"
   ]
  },
  {
   "cell_type": "code",
   "execution_count": 34,
   "metadata": {},
   "outputs": [
    {
     "data": {
      "text/plain": [
       "plos one                           182\n",
       "journal of biological chemistry     52\n",
       "neuroimage                          29\n",
       "nucleic acids research              26\n",
       "plos pathogens                      22\n",
       "Name: Journal title, dtype: int64"
      ]
     },
     "execution_count": 34,
     "metadata": {},
     "output_type": "execute_result"
    }
   ],
   "source": [
    "df['Journal title'].value_counts().head()"
   ]
  },
  {
   "cell_type": "code",
   "execution_count": 35,
   "metadata": {
    "collapsed": true
   },
   "outputs": [],
   "source": [
    "c = df[df['Journal title'] == 'neuroimage']['cost']"
   ]
  },
  {
   "cell_type": "code",
   "execution_count": 36,
   "metadata": {},
   "outputs": [
    {
     "data": {
      "text/plain": [
       "2215.168275862069"
      ]
     },
     "execution_count": 36,
     "metadata": {},
     "output_type": "execute_result"
    }
   ],
   "source": [
    "c.mean()"
   ]
  },
  {
   "cell_type": "code",
   "execution_count": 37,
   "metadata": {},
   "outputs": [
    {
     "data": {
      "text/plain": [
       "2326.43"
      ]
     },
     "execution_count": 37,
     "metadata": {},
     "output_type": "execute_result"
    }
   ],
   "source": [
    "c.median()"
   ]
  },
  {
   "cell_type": "code",
   "execution_count": 38,
   "metadata": {},
   "outputs": [
    {
     "data": {
      "text/plain": [
       "0    1762.69\n",
       "1    2503.34\n",
       "dtype: float64"
      ]
     },
     "execution_count": 38,
     "metadata": {},
     "output_type": "execute_result"
    }
   ],
   "source": [
    "c.mode()"
   ]
  },
  {
   "cell_type": "code",
   "execution_count": 39,
   "metadata": {
    "collapsed": true
   },
   "outputs": [],
   "source": [
    "d = df[df['Journal title'] == 'proceedings of the national academy of sciences']['cost'] "
   ]
  },
  {
   "cell_type": "code",
   "execution_count": 40,
   "metadata": {},
   "outputs": [
    {
     "data": {
      "text/plain": [
       "793.0122727272726"
      ]
     },
     "execution_count": 40,
     "metadata": {},
     "output_type": "execute_result"
    }
   ],
   "source": [
    "d.mean()"
   ]
  },
  {
   "cell_type": "code",
   "execution_count": 41,
   "metadata": {},
   "outputs": [
    {
     "data": {
      "text/plain": [
       "0      206.32\n",
       "1      395.60\n",
       "2      603.42\n",
       "3      605.17\n",
       "4      614.95\n",
       "5      617.79\n",
       "6      660.59\n",
       "7      662.09\n",
       "8      663.30\n",
       "9      664.89\n",
       "10     732.25\n",
       "11     751.84\n",
       "12     759.30\n",
       "13     765.36\n",
       "14     770.75\n",
       "15     779.69\n",
       "16     786.98\n",
       "17     792.00\n",
       "18     793.02\n",
       "19     888.18\n",
       "20    1241.10\n",
       "21    2691.68\n",
       "dtype: float64"
      ]
     },
     "execution_count": 41,
     "metadata": {},
     "output_type": "execute_result"
    }
   ],
   "source": [
    "d.mode()"
   ]
  },
  {
   "cell_type": "code",
   "execution_count": 42,
   "metadata": {},
   "outputs": [
    {
     "data": {
      "text/plain": [
       "742.0450000000001"
      ]
     },
     "execution_count": 42,
     "metadata": {},
     "output_type": "execute_result"
    }
   ],
   "source": [
    "d.median()"
   ]
  },
  {
   "cell_type": "code",
   "execution_count": 43,
   "metadata": {
    "collapsed": true
   },
   "outputs": [],
   "source": [
    "e = df[df['Journal title'] == 'nucleic acids research']['cost'] "
   ]
  },
  {
   "cell_type": "code",
   "execution_count": 44,
   "metadata": {},
   "outputs": [
    {
     "data": {
      "text/plain": [
       "1149.0"
      ]
     },
     "execution_count": 44,
     "metadata": {},
     "output_type": "execute_result"
    }
   ],
   "source": [
    "e.mean()"
   ]
  },
  {
   "cell_type": "code",
   "execution_count": 45,
   "metadata": {},
   "outputs": [
    {
     "data": {
      "text/plain": [
       "852.0"
      ]
     },
     "execution_count": 45,
     "metadata": {},
     "output_type": "execute_result"
    }
   ],
   "source": [
    "e.median()"
   ]
  },
  {
   "cell_type": "code",
   "execution_count": 46,
   "metadata": {},
   "outputs": [
    {
     "data": {
      "text/plain": [
       "0    852.0\n",
       "dtype: float64"
      ]
     },
     "execution_count": 46,
     "metadata": {},
     "output_type": "execute_result"
    }
   ],
   "source": [
    "e.mode()"
   ]
  },
  {
   "cell_type": "code",
   "execution_count": 47,
   "metadata": {
    "collapsed": true
   },
   "outputs": [],
   "source": [
    "# come back an use ML to fill in nulls"
   ]
  },
  {
   "cell_type": "code",
   "execution_count": 55,
   "metadata": {},
   "outputs": [
    {
     "data": {
      "image/png": "[encoded data removed]",
      "text/plain": [
       "<matplotlib.figure.Figure at 0x1d696e456a0>"
      ]
     },
     "metadata": {},
     "output_type": "display_data"
    }
   ],
   "source": [
    "plt.title(\"5 Most Popular Journal's Average Spending\")\n",
    "labels = 'Plos one', 'Journal of Biological Chemistry','Neuroimage','Nucleic Acids Research','Plos Pathogens'\n",
    "sizes = [a.mean(),b.mean(),c.mean(),d.mean(),e.mean()]\n",
    "colors = ['red','purple','blue','green','orange']\n",
    "explode = [0.1,0.1,0.1,0.1,0.1]\n",
    "\n",
    "plt.pie(sizes,explode=explode,labels=labels,colors=colors,\n",
    "        autopct='%1.1f%%',shadow=True,startangle=70)\n",
    "\n",
    "plt.axis('equal')\n",
    "plt.show()"
   ]
  }
 ],
 "metadata": {
  "kernelspec": {
   "display_name": "Python 3",
   "language": "python",
   "name": "python3"
  },
  "language_info": {
   "codemirror_mode": {
    "name": "ipython",
    "version": 3
   },
   "file_extension": ".py",
   "mimetype": "text/x-python",
   "name": "python",
   "nbconvert_exporter": "python",
   "pygments_lexer": "ipython3",
   "version": "3.6.1"
  }
 },
 "nbformat": 4,
 "nbformat_minor": 2
}
